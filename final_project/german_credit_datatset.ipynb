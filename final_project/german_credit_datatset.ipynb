{
  "cells": [
    {
      "cell_type": "code",
      "execution_count": 59,
      "metadata": {
        "id": "sxaLKHOWM6oG"
      },
      "outputs": [],
      "source": [
        "import matplotlib.pyplot as plt\n",
        "from sklearn import datasets, metrics, svm\n",
        "from sklearn.model_selection import train_test_split\n",
        "import numpy as np\n",
        "from sklearn.preprocessing import StandardScaler, OneHotEncoder\n",
        "from sklearn.utils import shuffle\n",
        "from collections import Counter\n",
        "import pandas as pd\n",
        "import math\n",
        "from ucimlrepo import fetch_ucirepo \n",
        "  \n",
        "\n"
      ]
    },
    {
      "cell_type": "code",
      "execution_count": 60,
      "metadata": {
        "colab": {
          "base_uri": "https://localhost:8080/",
          "height": 423
        },
        "id": "-5Z0QumrM9vi",
        "outputId": "116b40a7-9969-4df9-eb2f-e3895eb45fd5"
      },
      "outputs": [],
      "source": [
        "# fetch dataset \n",
        "statlog_german_credit_data = fetch_ucirepo(id=144) \n"
      ]
    },
    {
      "cell_type": "code",
      "execution_count": 61,
      "metadata": {
        "colab": {
          "base_uri": "https://localhost:8080/"
        },
        "id": "aJWL70U7ROwv",
        "outputId": "1be952d2-1208-422d-fbe5-540ba66692ae"
      },
      "outputs": [],
      "source": [
        "# data (as pandas dataframes) \n",
        "features = statlog_german_credit_data.data.features \n",
        "targets = statlog_german_credit_data.data.targets \n",
        "\n",
        "dataset = pd.concat([features, targets], axis=1)\n"
      ]
    },
    {
      "cell_type": "code",
      "execution_count": 62,
      "metadata": {},
      "outputs": [
        {
          "data": {
            "text/html": [
              "<div>\n",
              "<style scoped>\n",
              "    .dataframe tbody tr th:only-of-type {\n",
              "        vertical-align: middle;\n",
              "    }\n",
              "\n",
              "    .dataframe tbody tr th {\n",
              "        vertical-align: top;\n",
              "    }\n",
              "\n",
              "    .dataframe thead th {\n",
              "        text-align: right;\n",
              "    }\n",
              "</style>\n",
              "<table border=\"1\" class=\"dataframe\">\n",
              "  <thead>\n",
              "    <tr style=\"text-align: right;\">\n",
              "      <th></th>\n",
              "      <th>Attribute1</th>\n",
              "      <th>Attribute2</th>\n",
              "      <th>Attribute3</th>\n",
              "      <th>Attribute4</th>\n",
              "      <th>Attribute5</th>\n",
              "      <th>Attribute6</th>\n",
              "      <th>Attribute7</th>\n",
              "      <th>Attribute8</th>\n",
              "      <th>Attribute9</th>\n",
              "      <th>Attribute10</th>\n",
              "      <th>...</th>\n",
              "      <th>Attribute12</th>\n",
              "      <th>Attribute13</th>\n",
              "      <th>Attribute14</th>\n",
              "      <th>Attribute15</th>\n",
              "      <th>Attribute16</th>\n",
              "      <th>Attribute17</th>\n",
              "      <th>Attribute18</th>\n",
              "      <th>Attribute19</th>\n",
              "      <th>Attribute20</th>\n",
              "      <th>class</th>\n",
              "    </tr>\n",
              "  </thead>\n",
              "  <tbody>\n",
              "    <tr>\n",
              "      <th>868</th>\n",
              "      <td>A14</td>\n",
              "      <td>36</td>\n",
              "      <td>A32</td>\n",
              "      <td>A49</td>\n",
              "      <td>7409</td>\n",
              "      <td>A65</td>\n",
              "      <td>A75</td>\n",
              "      <td>3</td>\n",
              "      <td>A93</td>\n",
              "      <td>A101</td>\n",
              "      <td>...</td>\n",
              "      <td>A122</td>\n",
              "      <td>37</td>\n",
              "      <td>A143</td>\n",
              "      <td>A152</td>\n",
              "      <td>2</td>\n",
              "      <td>A173</td>\n",
              "      <td>1</td>\n",
              "      <td>A191</td>\n",
              "      <td>A201</td>\n",
              "      <td>1</td>\n",
              "    </tr>\n",
              "    <tr>\n",
              "      <th>95</th>\n",
              "      <td>A12</td>\n",
              "      <td>54</td>\n",
              "      <td>A30</td>\n",
              "      <td>A49</td>\n",
              "      <td>15945</td>\n",
              "      <td>A61</td>\n",
              "      <td>A72</td>\n",
              "      <td>3</td>\n",
              "      <td>A93</td>\n",
              "      <td>A101</td>\n",
              "      <td>...</td>\n",
              "      <td>A124</td>\n",
              "      <td>58</td>\n",
              "      <td>A143</td>\n",
              "      <td>A151</td>\n",
              "      <td>1</td>\n",
              "      <td>A173</td>\n",
              "      <td>1</td>\n",
              "      <td>A192</td>\n",
              "      <td>A201</td>\n",
              "      <td>2</td>\n",
              "    </tr>\n",
              "    <tr>\n",
              "      <th>58</th>\n",
              "      <td>A13</td>\n",
              "      <td>18</td>\n",
              "      <td>A32</td>\n",
              "      <td>A40</td>\n",
              "      <td>1961</td>\n",
              "      <td>A61</td>\n",
              "      <td>A75</td>\n",
              "      <td>3</td>\n",
              "      <td>A92</td>\n",
              "      <td>A101</td>\n",
              "      <td>...</td>\n",
              "      <td>A123</td>\n",
              "      <td>23</td>\n",
              "      <td>A143</td>\n",
              "      <td>A152</td>\n",
              "      <td>1</td>\n",
              "      <td>A174</td>\n",
              "      <td>1</td>\n",
              "      <td>A191</td>\n",
              "      <td>A201</td>\n",
              "      <td>1</td>\n",
              "    </tr>\n",
              "    <tr>\n",
              "      <th>77</th>\n",
              "      <td>A12</td>\n",
              "      <td>11</td>\n",
              "      <td>A33</td>\n",
              "      <td>A43</td>\n",
              "      <td>4771</td>\n",
              "      <td>A61</td>\n",
              "      <td>A74</td>\n",
              "      <td>2</td>\n",
              "      <td>A93</td>\n",
              "      <td>A101</td>\n",
              "      <td>...</td>\n",
              "      <td>A122</td>\n",
              "      <td>51</td>\n",
              "      <td>A143</td>\n",
              "      <td>A152</td>\n",
              "      <td>1</td>\n",
              "      <td>A173</td>\n",
              "      <td>1</td>\n",
              "      <td>A191</td>\n",
              "      <td>A201</td>\n",
              "      <td>1</td>\n",
              "    </tr>\n",
              "    <tr>\n",
              "      <th>264</th>\n",
              "      <td>A14</td>\n",
              "      <td>10</td>\n",
              "      <td>A34</td>\n",
              "      <td>A40</td>\n",
              "      <td>1231</td>\n",
              "      <td>A61</td>\n",
              "      <td>A75</td>\n",
              "      <td>3</td>\n",
              "      <td>A93</td>\n",
              "      <td>A101</td>\n",
              "      <td>...</td>\n",
              "      <td>A121</td>\n",
              "      <td>32</td>\n",
              "      <td>A143</td>\n",
              "      <td>A152</td>\n",
              "      <td>2</td>\n",
              "      <td>A172</td>\n",
              "      <td>2</td>\n",
              "      <td>A191</td>\n",
              "      <td>A202</td>\n",
              "      <td>1</td>\n",
              "    </tr>\n",
              "    <tr>\n",
              "      <th>...</th>\n",
              "      <td>...</td>\n",
              "      <td>...</td>\n",
              "      <td>...</td>\n",
              "      <td>...</td>\n",
              "      <td>...</td>\n",
              "      <td>...</td>\n",
              "      <td>...</td>\n",
              "      <td>...</td>\n",
              "      <td>...</td>\n",
              "      <td>...</td>\n",
              "      <td>...</td>\n",
              "      <td>...</td>\n",
              "      <td>...</td>\n",
              "      <td>...</td>\n",
              "      <td>...</td>\n",
              "      <td>...</td>\n",
              "      <td>...</td>\n",
              "      <td>...</td>\n",
              "      <td>...</td>\n",
              "      <td>...</td>\n",
              "      <td>...</td>\n",
              "    </tr>\n",
              "    <tr>\n",
              "      <th>614</th>\n",
              "      <td>A14</td>\n",
              "      <td>18</td>\n",
              "      <td>A33</td>\n",
              "      <td>A42</td>\n",
              "      <td>1808</td>\n",
              "      <td>A61</td>\n",
              "      <td>A74</td>\n",
              "      <td>4</td>\n",
              "      <td>A92</td>\n",
              "      <td>A101</td>\n",
              "      <td>...</td>\n",
              "      <td>A121</td>\n",
              "      <td>22</td>\n",
              "      <td>A143</td>\n",
              "      <td>A152</td>\n",
              "      <td>1</td>\n",
              "      <td>A173</td>\n",
              "      <td>1</td>\n",
              "      <td>A191</td>\n",
              "      <td>A201</td>\n",
              "      <td>2</td>\n",
              "    </tr>\n",
              "    <tr>\n",
              "      <th>932</th>\n",
              "      <td>A14</td>\n",
              "      <td>9</td>\n",
              "      <td>A34</td>\n",
              "      <td>A40</td>\n",
              "      <td>1224</td>\n",
              "      <td>A61</td>\n",
              "      <td>A73</td>\n",
              "      <td>3</td>\n",
              "      <td>A93</td>\n",
              "      <td>A101</td>\n",
              "      <td>...</td>\n",
              "      <td>A121</td>\n",
              "      <td>30</td>\n",
              "      <td>A143</td>\n",
              "      <td>A152</td>\n",
              "      <td>2</td>\n",
              "      <td>A173</td>\n",
              "      <td>1</td>\n",
              "      <td>A191</td>\n",
              "      <td>A201</td>\n",
              "      <td>1</td>\n",
              "    </tr>\n",
              "    <tr>\n",
              "      <th>254</th>\n",
              "      <td>A12</td>\n",
              "      <td>9</td>\n",
              "      <td>A32</td>\n",
              "      <td>A42</td>\n",
              "      <td>2030</td>\n",
              "      <td>A65</td>\n",
              "      <td>A74</td>\n",
              "      <td>2</td>\n",
              "      <td>A93</td>\n",
              "      <td>A101</td>\n",
              "      <td>...</td>\n",
              "      <td>A123</td>\n",
              "      <td>24</td>\n",
              "      <td>A143</td>\n",
              "      <td>A152</td>\n",
              "      <td>1</td>\n",
              "      <td>A173</td>\n",
              "      <td>1</td>\n",
              "      <td>A192</td>\n",
              "      <td>A201</td>\n",
              "      <td>1</td>\n",
              "    </tr>\n",
              "    <tr>\n",
              "      <th>51</th>\n",
              "      <td>A12</td>\n",
              "      <td>27</td>\n",
              "      <td>A33</td>\n",
              "      <td>A41</td>\n",
              "      <td>5965</td>\n",
              "      <td>A61</td>\n",
              "      <td>A75</td>\n",
              "      <td>1</td>\n",
              "      <td>A93</td>\n",
              "      <td>A101</td>\n",
              "      <td>...</td>\n",
              "      <td>A123</td>\n",
              "      <td>30</td>\n",
              "      <td>A143</td>\n",
              "      <td>A152</td>\n",
              "      <td>2</td>\n",
              "      <td>A174</td>\n",
              "      <td>1</td>\n",
              "      <td>A192</td>\n",
              "      <td>A201</td>\n",
              "      <td>1</td>\n",
              "    </tr>\n",
              "    <tr>\n",
              "      <th>594</th>\n",
              "      <td>A11</td>\n",
              "      <td>24</td>\n",
              "      <td>A31</td>\n",
              "      <td>A410</td>\n",
              "      <td>1358</td>\n",
              "      <td>A65</td>\n",
              "      <td>A75</td>\n",
              "      <td>4</td>\n",
              "      <td>A93</td>\n",
              "      <td>A101</td>\n",
              "      <td>...</td>\n",
              "      <td>A123</td>\n",
              "      <td>40</td>\n",
              "      <td>A142</td>\n",
              "      <td>A152</td>\n",
              "      <td>1</td>\n",
              "      <td>A174</td>\n",
              "      <td>1</td>\n",
              "      <td>A192</td>\n",
              "      <td>A201</td>\n",
              "      <td>2</td>\n",
              "    </tr>\n",
              "  </tbody>\n",
              "</table>\n",
              "<p>1000 rows × 21 columns</p>\n",
              "</div>"
            ],
            "text/plain": [
              "    Attribute1  Attribute2 Attribute3 Attribute4  Attribute5 Attribute6  \\\n",
              "868        A14          36        A32        A49        7409        A65   \n",
              "95         A12          54        A30        A49       15945        A61   \n",
              "58         A13          18        A32        A40        1961        A61   \n",
              "77         A12          11        A33        A43        4771        A61   \n",
              "264        A14          10        A34        A40        1231        A61   \n",
              "..         ...         ...        ...        ...         ...        ...   \n",
              "614        A14          18        A33        A42        1808        A61   \n",
              "932        A14           9        A34        A40        1224        A61   \n",
              "254        A12           9        A32        A42        2030        A65   \n",
              "51         A12          27        A33        A41        5965        A61   \n",
              "594        A11          24        A31       A410        1358        A65   \n",
              "\n",
              "    Attribute7  Attribute8 Attribute9 Attribute10  ...  Attribute12  \\\n",
              "868        A75           3        A93        A101  ...         A122   \n",
              "95         A72           3        A93        A101  ...         A124   \n",
              "58         A75           3        A92        A101  ...         A123   \n",
              "77         A74           2        A93        A101  ...         A122   \n",
              "264        A75           3        A93        A101  ...         A121   \n",
              "..         ...         ...        ...         ...  ...          ...   \n",
              "614        A74           4        A92        A101  ...         A121   \n",
              "932        A73           3        A93        A101  ...         A121   \n",
              "254        A74           2        A93        A101  ...         A123   \n",
              "51         A75           1        A93        A101  ...         A123   \n",
              "594        A75           4        A93        A101  ...         A123   \n",
              "\n",
              "    Attribute13  Attribute14 Attribute15 Attribute16  Attribute17 Attribute18  \\\n",
              "868          37         A143        A152           2         A173           1   \n",
              "95           58         A143        A151           1         A173           1   \n",
              "58           23         A143        A152           1         A174           1   \n",
              "77           51         A143        A152           1         A173           1   \n",
              "264          32         A143        A152           2         A172           2   \n",
              "..          ...          ...         ...         ...          ...         ...   \n",
              "614          22         A143        A152           1         A173           1   \n",
              "932          30         A143        A152           2         A173           1   \n",
              "254          24         A143        A152           1         A173           1   \n",
              "51           30         A143        A152           2         A174           1   \n",
              "594          40         A142        A152           1         A174           1   \n",
              "\n",
              "     Attribute19 Attribute20 class  \n",
              "868         A191        A201     1  \n",
              "95          A192        A201     2  \n",
              "58          A191        A201     1  \n",
              "77          A191        A201     1  \n",
              "264         A191        A202     1  \n",
              "..           ...         ...   ...  \n",
              "614         A191        A201     2  \n",
              "932         A191        A201     1  \n",
              "254         A192        A201     1  \n",
              "51          A192        A201     1  \n",
              "594         A192        A201     2  \n",
              "\n",
              "[1000 rows x 21 columns]"
            ]
          },
          "execution_count": 62,
          "metadata": {},
          "output_type": "execute_result"
        }
      ],
      "source": [
        "dataset = dataset.sample(frac=1)\n",
        "dataset"
      ]
    },
    {
      "cell_type": "code",
      "execution_count": 64,
      "metadata": {},
      "outputs": [
        {
          "name": "stdout",
          "output_type": "stream",
          "text": [
            "Index(['Attribute1', 'Attribute2', 'Attribute3', 'Attribute4', 'Attribute5',\n",
            "       'Attribute6', 'Attribute7', 'Attribute8', 'Attribute9', 'Attribute10',\n",
            "       'Attribute11', 'Attribute12', 'Attribute13', 'Attribute14',\n",
            "       'Attribute15', 'Attribute16', 'Attribute17', 'Attribute18',\n",
            "       'Attribute19', 'Attribute20', 'class'],\n",
            "      dtype='object')\n"
          ]
        },
        {
          "data": {
            "text/plain": [
              "array([['A14', 36, 'A32', ..., 1, 'A191', 'A201'],\n",
              "       ['A12', 54, 'A30', ..., 1, 'A192', 'A201'],\n",
              "       ['A13', 18, 'A32', ..., 1, 'A191', 'A201'],\n",
              "       ...,\n",
              "       ['A12', 9, 'A32', ..., 1, 'A192', 'A201'],\n",
              "       ['A12', 27, 'A33', ..., 1, 'A192', 'A201'],\n",
              "       ['A11', 24, 'A31', ..., 1, 'A192', 'A201']], dtype=object)"
            ]
          },
          "execution_count": 64,
          "metadata": {},
          "output_type": "execute_result"
        }
      ],
      "source": [
        "print(dataset.columns)\n",
        "# dataset = dataset.drop(['Protime', 'Spiders'], axis=1)\n",
        "features = dataset.drop('class', axis=1).values\n",
        "labels = dataset['class'].values\n",
        "features"
      ]
    },
    {
      "cell_type": "code",
      "execution_count": 65,
      "metadata": {
        "id": "UNW_kD_EXhjC"
      },
      "outputs": [],
      "source": [
        "def normalize(train, test, epsilon=1e-10):\n",
        "    min_val = np.min(train, axis=0)\n",
        "    max_val = np.max(train, axis=0)\n",
        "    train_norm = (train - min_val) / (max_val - min_val + epsilon)\n",
        "    test_norm = (test - min_val) / (max_val - min_val + epsilon)\n",
        "    return train_norm, test_norm"
      ]
    },
    {
      "cell_type": "code",
      "execution_count": 66,
      "metadata": {
        "colab": {
          "base_uri": "https://localhost:8080/"
        },
        "id": "n8Xrs3wDR1Cx",
        "outputId": "47c08f62-b5db-4429-ebe2-566371e7051c"
      },
      "outputs": [
        {
          "name": "stderr",
          "output_type": "stream",
          "text": [
            "/Users/ananyashekhawat/opt/anaconda3/lib/python3.9/site-packages/sklearn/preprocessing/_encoders.py:975: FutureWarning: `sparse` was renamed to `sparse_output` in version 1.2 and will be removed in 1.4. `sparse_output` is ignored unless you leave `sparse` to its default value.\n",
            "  warnings.warn(\n",
            "/Users/ananyashekhawat/opt/anaconda3/lib/python3.9/site-packages/sklearn/preprocessing/_encoders.py:975: FutureWarning: `sparse` was renamed to `sparse_output` in version 1.2 and will be removed in 1.4. `sparse_output` is ignored unless you leave `sparse` to its default value.\n",
            "  warnings.warn(\n"
          ]
        }
      ],
      "source": [
        "numerical_indices = [1,4,7,10,12,15,17]\n",
        "categorical_indices = [0,2,3,5,6,8,9,11,13,14,16,18,19]\n",
        "X_numerical = np.array(features[:, numerical_indices], dtype=float)\n",
        "X_categorical = features[:, categorical_indices]\n",
        "feature_encoder = OneHotEncoder(sparse=False)\n",
        "X_categorical_encoded = feature_encoder.fit_transform(X_categorical)\n",
        "X_numerical_normalized, _ = normalize(X_numerical, X_numerical)\n",
        "X = np.hstack((X_numerical_normalized, X_categorical_encoded))\n",
        "label_encoder = OneHotEncoder(sparse=False)\n",
        "y = label_encoder.fit_transform(labels.reshape(-1, 1))\n",
        "X_train, X_test, y_train, y_test = train_test_split(X, y, test_size=0.2, random_state=42)\n"
      ]
    },
    {
      "cell_type": "code",
      "execution_count": 67,
      "metadata": {
        "id": "ULtsdUlmf2Ou"
      },
      "outputs": [],
      "source": [
        "def stratified_cross_validation(features, labels, k=10):\n",
        "    label_indices = [np.where(labels == label)[0] for label in np.unique(labels)]\n",
        "    folds = []\n",
        "    pairs = []\n",
        "    shuffled_label_indices = [np.random.permutation(label_list) for label_list in label_indices]\n",
        "    label_splits = [np.array_split(label_list, k) for label_list in shuffled_label_indices]\n",
        "    for fold_parts in zip(*label_splits):\n",
        "        fold = np.concatenate(fold_parts)\n",
        "        folds.append(fold)\n",
        "    for fold_index in range(k):\n",
        "        test_fold = folds[fold_index]\n",
        "        train_fold = np.concatenate([folds[i] for i in range(k) if i != fold_index])\n",
        "        pairs.append((train_fold, test_fold))\n",
        "    return pairs"
      ]
    },
    {
      "cell_type": "markdown",
      "metadata": {
        "id": "9yUmkYtQfwOV"
      },
      "source": [
        "Question 1. Evaluate the performance of at least two algorithms you studied and/or implemented during the semester (e.g., k-NN, Decision Trees, standard Naive Bayes, Random Forests, Neural Networks, etc).1 You should discuss which algorithms you decided to test on each dataset and why."
      ]
    },
    {
      "cell_type": "markdown",
      "metadata": {
        "id": "mnaqJ5C6f5bj"
      },
      "source": [
        "# Neural Network Algorithm"
      ]
    },
    {
      "cell_type": "markdown",
      "metadata": {
        "id": "Ii_3pzz1f92Y"
      },
      "source": [
        "Please note that we used Cyril's implementation of NN here."
      ]
    },
    {
      "cell_type": "code",
      "execution_count": 68,
      "metadata": {
        "id": "Pg6lorB8aWj7"
      },
      "outputs": [],
      "source": [
        "class NN:\n",
        "    def __init__(self, sizes, initial_weights=None, eta=0.01, reg_lambda=0.01, use_softmax=False):\n",
        "        self.sizes = sizes\n",
        "        self.eta = eta\n",
        "        self.reg_lambda = reg_lambda\n",
        "        self.use_softmax = use_softmax\n",
        "        self.weights = self.init_weights() if initial_weights is None else initial_weights\n",
        "\n",
        "    def init_weights(self):\n",
        "        return [np.random.randn(y, x + 1) * 0.1 for x, y in zip(self.sizes[:-1], self.sizes[1:])]\n",
        "\n",
        "    def add_bias(self, X):\n",
        "        return np.insert(X, 0, 1, axis=1)\n",
        "\n",
        "    def softmax(self, z):\n",
        "        exp_z = np.exp(z - np.max(z, axis=1, keepdims=True))\n",
        "        return exp_z / np.sum(exp_z, axis=1, keepdims=True)\n",
        "\n",
        "    def forward(self, X):\n",
        "        act = [self.add_bias(X)]\n",
        "        ll = []\n",
        "        for index, weight in enumerate(self.weights[:-1]):\n",
        "            ll.append(act[-1] @ weight.T)\n",
        "            act.append(self.add_bias(1 / (1 + np.exp(-ll[-1]))))\n",
        "        ll.append(act[-1] @ self.weights[-1].T)\n",
        "        act.append(self.softmax(ll[-1]) if self.use_softmax else 1 / (1 + np.exp(-ll[-1])))\n",
        "        return act, ll\n",
        "\n",
        "    def cost(self, Y, act):\n",
        "        xq = Y.shape[0]\n",
        "        return -np.sum(Y * np.log(act[-1] + 1e-8)) / xq if self.use_softmax else -np.sum(Y * np.log(act[-1]) + (1 - Y) * np.log(1 - act[-1])) / xq\n",
        "\n",
        "    def backward(self, targets, activations, weights):\n",
        "        num_samples = targets.shape[0]\n",
        "        errors = [activations[-1] - targets]\n",
        "        gradients = []\n",
        "        for i in range(len(weights) - 1, 0, -1):\n",
        "            delta = (errors[0] @ weights[i][:, 1:]) * activations[i][:, 1:] * (1 - activations[i][:, 1:])\n",
        "            errors.insert(0, delta)\n",
        "        for i in range(len(weights)):\n",
        "            grad = errors[i].T @ activations[i] / num_samples\n",
        "            gradients.append(grad)\n",
        "        return errors, gradients\n",
        "\n",
        "    def update_weights(self, gradients):\n",
        "        for i in range(len(self.weights)):\n",
        "            regularization_grad = (self.reg_lambda * self.weights[i]) / self.weights[i].shape[0]\n",
        "            regularization_grad[:, 0] = 0\n",
        "            self.weights[i] -= self.eta * (gradients[i] + regularization_grad)\n",
        "\n",
        "    def predict(self, inputs):\n",
        "        final_activations, _ = self.forward(inputs)\n",
        "        return np.argmax(final_activations[-1], axis=1) + 1\n",
        "\n",
        "    def train(self, inputs, labels, iterations):\n",
        "        for _ in range(iterations):\n",
        "            final_activations, _ = self.forward(inputs)\n",
        "            _, weight_gradients = self.backward(labels, final_activations, self.weights)\n",
        "            self.update_weights(weight_gradients)\n",
        "        return self.weights\n"
      ]
    },
    {
      "cell_type": "code",
      "execution_count": 69,
      "metadata": {
        "id": "Q6AYyj9VhgqA"
      },
      "outputs": [],
      "source": [
        "def accuracy(Y, predictions):\n",
        "    true_labels = np.argmax(Y, axis=1) + 1\n",
        "    accuracy = np.mean(predictions == true_labels)\n",
        "    return accuracy * 100\n",
        "\n",
        "def f1_score(Y, predictions):\n",
        "    true_labels = np.argmax(Y, axis=1) + 1\n",
        "    classes = np.unique(true_labels)\n",
        "    f1_scores = []\n",
        "    for c in classes:\n",
        "        tp = np.sum((predictions == c) & (true_labels == c))\n",
        "        fp = np.sum((predictions == c) & (true_labels != c))\n",
        "        precision = tp / (tp + fp) if (tp + fp) > 0 else 0\n",
        "        fn = np.sum((predictions != c) & (true_labels == c))\n",
        "        recall = tp / (tp + fn) if (tp + fn) > 0 else 0\n",
        "        f1 = 2 * (precision * recall) / (precision + recall) if (precision + recall) > 0 else 0\n",
        "        f1_scores.append(f1)\n",
        "    avg_f1 = np.mean(f1_scores) * 100\n",
        "    return avg_f1"
      ]
    },
    {
      "cell_type": "code",
      "execution_count": 71,
      "metadata": {
        "colab": {
          "base_uri": "https://localhost:8080/"
        },
        "id": "Et1foBn_gkhn",
        "outputId": "5427b904-bf43-49f1-d19b-831251214c1c"
      },
      "outputs": [
        {
          "name": "stdout",
          "output_type": "stream",
          "text": [
            "61\n",
            "Training Accuracy: 79.25%\n",
            "Training F1 Score: 73.76%\n",
            "Testing Accuracy: 78.50%\n",
            "Testing F1 Score: 71.52%\n"
          ]
        }
      ],
      "source": [
        "print(X.shape[1])\n",
        "nn = NN([X.shape[1], 30, 2], eta=0.05, reg_lambda=0.01, use_softmax=True)\n",
        "trained_weights = nn.train(X_train, y_train, iterations=20000)\n",
        "train_predictions = nn.predict(X_train)\n",
        "train_accuracy = accuracy(y_train, train_predictions)\n",
        "train_f1score = f1_score(y_train, train_predictions)\n",
        "print(f\"Training Accuracy: {train_accuracy:.2f}%\")\n",
        "print(f\"Training F1 Score: {train_f1score:.2f}%\")\n",
        "test_predictions = nn.predict(X_test)\n",
        "test_accuracy = accuracy(y_test, test_predictions)\n",
        "test_f1score = f1_score(y_test, test_predictions)\n",
        "print(f\"Testing Accuracy: {test_accuracy:.2f}%\")\n",
        "print(f\"Testing F1 Score: {test_f1score:.2f}%\")"
      ]
    },
    {
      "cell_type": "code",
      "execution_count": 72,
      "metadata": {
        "id": "lEgx2PBNhvC5"
      },
      "outputs": [],
      "source": [
        "def test_hyperparameters(features, labels, k=10):\n",
        "    eta_values = [0.05, 0.1, 0.2]\n",
        "    reg_lambda_values = [0.01, 0.05, 0.1]\n",
        "    layer_configurations = [\n",
        "        [X.shape[1], 10, 2] ,\n",
        "        [X.shape[1], 20, 2] ,\n",
        "        [X.shape[1], 10, 10, 2],\n",
        "        [X.shape[1], 20, 20, 2]\n",
        "    ]\n",
        "    results = []\n",
        "    for eta in eta_values:\n",
        "        for reg_lambda in reg_lambda_values:\n",
        "            for layers in layer_configurations:\n",
        "                train_accuracies = []\n",
        "                train_f1_scores = []\n",
        "                test_accuracies = []\n",
        "                test_f1_scores = []\n",
        "                splits = stratified_cross_validation(features, labels, k)\n",
        "                for train_indices, test_indices in splits:\n",
        "                    X_train, y_train = features[train_indices], labels[train_indices]\n",
        "                    X_test, y_test = features[test_indices], labels[test_indices]\n",
        "                    nn = NN(layers, eta=eta, reg_lambda=reg_lambda, use_softmax=True)\n",
        "                    nn.train(X_train, y_train, iterations=1000)\n",
        "                    train_predictions = nn.predict(X_train)\n",
        "                    train_accuracy = accuracy(y_train, train_predictions)\n",
        "                    train_f1 = f1_score(y_train, train_predictions)\n",
        "                    test_predictions = nn.predict(X_test)\n",
        "                    test_accuracy = accuracy(y_test, test_predictions)\n",
        "                    test_f1 = f1_score(y_test, test_predictions)\n",
        "                    train_accuracies.append(train_accuracy)\n",
        "                    train_f1_scores.append(train_f1)\n",
        "                    test_accuracies.append(test_accuracy)\n",
        "                    test_f1_scores.append(test_f1)\n",
        "                results.append({\n",
        "                    \"configuration\": layers,\n",
        "                    \"lambda\": reg_lambda,\n",
        "                    \"learning_rate\": eta,\n",
        "                    \"train_accuracy\": np.mean(train_accuracies),\n",
        "                    \"train_f1\": np.mean(train_f1_scores),\n",
        "                    \"test_accuracy\": np.mean(test_accuracies),\n",
        "                    \"test_f1\": np.mean(test_f1_scores)\n",
        "                })\n",
        "    return results\n"
      ]
    },
    {
      "cell_type": "code",
      "execution_count": 73,
      "metadata": {
        "colab": {
          "base_uri": "https://localhost:8080/"
        },
        "id": "DtPTm1D8h8xG",
        "outputId": "7caf6cb2-a2ac-404d-ce7d-3dc2e1a7035a"
      },
      "outputs": [
        {
          "name": "stdout",
          "output_type": "stream",
          "text": [
            "Structure: [61, 10, 2], Lambda: 0.01, Learning Rate: 0.05, Train Acc: 70.28, Train F1: 42.74, Test Acc: 70.10, Test F1: 42.02\n",
            "Structure: [61, 20, 2], Lambda: 0.01, Learning Rate: 0.05, Train Acc: 72.82, Train F1: 53.70, Test Acc: 71.70, Test F1: 51.57\n",
            "Structure: [61, 10, 10, 2], Lambda: 0.01, Learning Rate: 0.05, Train Acc: 70.00, Train F1: 41.18, Test Acc: 70.00, Test F1: 41.17\n",
            "Structure: [61, 20, 20, 2], Lambda: 0.01, Learning Rate: 0.05, Train Acc: 70.00, Train F1: 41.18, Test Acc: 70.00, Test F1: 41.17\n",
            "Structure: [61, 10, 2], Lambda: 0.05, Learning Rate: 0.05, Train Acc: 70.00, Train F1: 41.18, Test Acc: 70.00, Test F1: 41.15\n",
            "Structure: [61, 20, 2], Lambda: 0.05, Learning Rate: 0.05, Train Acc: 70.03, Train F1: 41.33, Test Acc: 69.95, Test F1: 41.15\n",
            "Structure: [61, 10, 10, 2], Lambda: 0.05, Learning Rate: 0.05, Train Acc: 70.00, Train F1: 41.18, Test Acc: 70.00, Test F1: 41.16\n",
            "Structure: [61, 20, 20, 2], Lambda: 0.05, Learning Rate: 0.05, Train Acc: 70.00, Train F1: 41.18, Test Acc: 70.00, Test F1: 41.16\n",
            "Structure: [61, 10, 2], Lambda: 0.1, Learning Rate: 0.05, Train Acc: 70.00, Train F1: 41.18, Test Acc: 70.00, Test F1: 41.16\n",
            "Structure: [61, 20, 2], Lambda: 0.1, Learning Rate: 0.05, Train Acc: 70.00, Train F1: 41.18, Test Acc: 70.00, Test F1: 41.15\n",
            "Structure: [61, 10, 10, 2], Lambda: 0.1, Learning Rate: 0.05, Train Acc: 70.00, Train F1: 41.18, Test Acc: 70.00, Test F1: 41.16\n",
            "Structure: [61, 20, 20, 2], Lambda: 0.1, Learning Rate: 0.05, Train Acc: 70.00, Train F1: 41.18, Test Acc: 70.00, Test F1: 41.15\n",
            "Structure: [61, 10, 2], Lambda: 0.01, Learning Rate: 0.1, Train Acc: 77.10, Train F1: 68.82, Test Acc: 76.50, Test F1: 67.97\n",
            "Structure: [61, 20, 2], Lambda: 0.01, Learning Rate: 0.1, Train Acc: 77.62, Train F1: 70.25, Test Acc: 76.35, Test F1: 68.04\n",
            "Structure: [61, 10, 10, 2], Lambda: 0.01, Learning Rate: 0.1, Train Acc: 70.00, Train F1: 41.18, Test Acc: 70.00, Test F1: 41.16\n",
            "Structure: [61, 20, 20, 2], Lambda: 0.01, Learning Rate: 0.1, Train Acc: 70.00, Train F1: 41.18, Test Acc: 70.00, Test F1: 41.14\n",
            "Structure: [61, 10, 2], Lambda: 0.05, Learning Rate: 0.1, Train Acc: 72.86, Train F1: 53.94, Test Acc: 72.10, Test F1: 52.15\n",
            "Structure: [61, 20, 2], Lambda: 0.05, Learning Rate: 0.1, Train Acc: 74.97, Train F1: 61.35, Test Acc: 74.60, Test F1: 60.84\n",
            "Structure: [61, 10, 10, 2], Lambda: 0.05, Learning Rate: 0.1, Train Acc: 70.00, Train F1: 41.18, Test Acc: 70.00, Test F1: 41.17\n",
            "Structure: [61, 20, 20, 2], Lambda: 0.05, Learning Rate: 0.1, Train Acc: 70.00, Train F1: 41.18, Test Acc: 70.00, Test F1: 41.17\n",
            "Structure: [61, 10, 2], Lambda: 0.1, Learning Rate: 0.1, Train Acc: 70.00, Train F1: 41.18, Test Acc: 70.00, Test F1: 41.15\n",
            "Structure: [61, 20, 2], Lambda: 0.1, Learning Rate: 0.1, Train Acc: 70.34, Train F1: 42.94, Test Acc: 70.15, Test F1: 43.02\n",
            "Structure: [61, 10, 10, 2], Lambda: 0.1, Learning Rate: 0.1, Train Acc: 70.00, Train F1: 41.18, Test Acc: 70.00, Test F1: 41.16\n",
            "Structure: [61, 20, 20, 2], Lambda: 0.1, Learning Rate: 0.1, Train Acc: 70.00, Train F1: 41.18, Test Acc: 70.00, Test F1: 41.15\n",
            "Structure: [61, 10, 2], Lambda: 0.01, Learning Rate: 0.2, Train Acc: 77.77, Train F1: 71.05, Test Acc: 75.90, Test F1: 68.71\n",
            "Structure: [61, 20, 2], Lambda: 0.01, Learning Rate: 0.2, Train Acc: 77.69, Train F1: 71.00, Test Acc: 76.55, Test F1: 69.53\n",
            "Structure: [61, 10, 10, 2], Lambda: 0.01, Learning Rate: 0.2, Train Acc: 70.00, Train F1: 41.18, Test Acc: 70.00, Test F1: 41.15\n",
            "Structure: [61, 20, 20, 2], Lambda: 0.01, Learning Rate: 0.2, Train Acc: 70.00, Train F1: 41.18, Test Acc: 70.00, Test F1: 41.16\n",
            "Structure: [61, 10, 2], Lambda: 0.05, Learning Rate: 0.2, Train Acc: 76.14, Train F1: 65.15, Test Acc: 75.20, Test F1: 63.28\n",
            "Structure: [61, 20, 2], Lambda: 0.05, Learning Rate: 0.2, Train Acc: 77.27, Train F1: 68.12, Test Acc: 76.40, Test F1: 66.62\n",
            "Structure: [61, 10, 10, 2], Lambda: 0.05, Learning Rate: 0.2, Train Acc: 70.00, Train F1: 41.18, Test Acc: 70.00, Test F1: 41.16\n",
            "Structure: [61, 20, 20, 2], Lambda: 0.05, Learning Rate: 0.2, Train Acc: 70.00, Train F1: 41.18, Test Acc: 70.00, Test F1: 41.15\n",
            "Structure: [61, 10, 2], Lambda: 0.1, Learning Rate: 0.2, Train Acc: 70.39, Train F1: 43.17, Test Acc: 70.30, Test F1: 42.94\n",
            "Structure: [61, 20, 2], Lambda: 0.1, Learning Rate: 0.2, Train Acc: 73.43, Train F1: 56.48, Test Acc: 73.10, Test F1: 55.60\n",
            "Structure: [61, 10, 10, 2], Lambda: 0.1, Learning Rate: 0.2, Train Acc: 70.00, Train F1: 41.18, Test Acc: 70.00, Test F1: 41.15\n",
            "Structure: [61, 20, 20, 2], Lambda: 0.1, Learning Rate: 0.2, Train Acc: 70.00, Train F1: 41.18, Test Acc: 70.00, Test F1: 41.15\n"
          ]
        }
      ],
      "source": [
        "results_nn = test_hyperparameters(X, y, k=10)\n",
        "for result in results_nn:\n",
        "    print(f\"Structure: {result['configuration']}, Lambda: {result['lambda']}, Learning Rate: {result['learning_rate']}, \"\n",
        "          f\"Train Acc: {result['train_accuracy']:.2f}, Train F1: {result['train_f1']:.2f}, Test Acc: {result['test_accuracy']:.2f}, \"\n",
        "          f\"Test F1: {result['test_f1']:.2f}\")"
      ]
    },
    {
      "cell_type": "code",
      "execution_count": null,
      "metadata": {
        "colab": {
          "base_uri": "https://localhost:8080/"
        },
        "id": "KZXnQz7tJjiu",
        "outputId": "ccc121c3-b451-46ee-9739-04e7176d96c2"
      },
      "outputs": [
        {
          "name": "stdout",
          "output_type": "stream",
          "text": [
            "  configuration  lambda  learning_rate  train_accuracy  train_f1  test_accuracy   test_f1\n",
            "    [20, 10, 2]    0.01           0.20       80.949074 72.912554      81.041667 73.061115\n",
            "    [20, 30, 2]    0.01           0.20       80.995370 72.997500      81.041667 72.994892\n",
            "    [20, 30, 2]    0.01           0.10       80.833333 72.696064      80.833333 72.453375\n",
            "    [20, 30, 2]    0.05           0.20       80.613426 72.281838      80.520833 71.769905\n",
            "    [20, 10, 2]    0.01           0.10       79.791667 70.532833      79.583333 70.249983\n",
            "    [20, 10, 2]    0.05           0.20       79.467593 69.945407      79.583333 69.801533\n",
            "    [20, 30, 2]    0.10           0.20       78.402778 67.241465      78.125000 66.904504\n",
            "    [20, 30, 2]    0.05           0.10       78.171296 66.694131      77.916667 65.863878\n",
            "    [20, 30, 2]    0.01           0.05       72.789352 52.260616      71.979167 50.449981\n",
            "    [20, 10, 2]    0.05           0.10       70.162037 44.343218      70.208333 43.878230\n",
            "[20, 30, 30, 2]    0.01           0.20       69.340278 41.460775      69.479167 41.882891\n",
            "    [20, 30, 2]    0.10           0.10       69.490741 41.973014      69.375000 41.710235\n",
            "    [20, 10, 2]    0.01           0.05       69.178241 40.924542      69.270833 41.212945\n",
            "    [20, 30, 2]    0.05           0.05       69.189815 40.965842      69.166667 40.866042\n",
            "[20, 30, 30, 2]    0.10           0.10       69.166667 40.886376      69.166667 40.861285\n",
            "    [20, 30, 2]    0.10           0.05       69.166667 40.886349      69.166667 40.858562\n",
            "[20, 10, 10, 2]    0.01           0.10       69.166667 40.886272      69.166667 40.852067\n",
            "[20, 10, 10, 2]    0.05           0.20       69.166667 40.886267      69.166667 40.851217\n",
            "    [20, 10, 2]    0.05           0.05       69.166667 40.886238      69.166667 40.850061\n",
            "[20, 30, 30, 2]    0.05           0.05       69.166667 40.886184      69.166667 40.844768\n",
            "[20, 30, 30, 2]    0.05           0.10       69.166667 40.886041      69.166667 40.831983\n",
            "[20, 10, 10, 2]    0.05           0.10       69.166667 40.885955      69.166667 40.827377\n",
            "    [20, 10, 2]    0.10           0.20       69.166667 40.885863      69.166667 40.818463\n",
            "[20, 10, 10, 2]    0.01           0.20       69.166667 40.885394      69.166667 40.783243\n",
            "    [20, 10, 2]    0.10           0.05       69.166667 40.886516      69.166667 40.871887\n",
            "[20, 30, 30, 2]    0.01           0.05       69.166667 40.886410      69.166667 40.863810\n",
            "[20, 10, 10, 2]    0.10           0.10       69.166667 40.886416      69.166667 40.863496\n",
            "[20, 10, 10, 2]    0.10           0.05       69.166667 40.886378      69.166667 40.860175\n",
            "    [20, 10, 2]    0.10           0.10       69.166667 40.886277      69.166667 40.852937\n",
            "[20, 30, 30, 2]    0.10           0.20       69.166667 40.886240      69.166667 40.848797\n",
            "[20, 10, 10, 2]    0.10           0.20       69.166667 40.886221      69.166667 40.848713\n",
            "[20, 10, 10, 2]    0.05           0.05       69.166667 40.886127      69.166667 40.841197\n",
            "[20, 30, 30, 2]    0.01           0.10       69.166667 40.886127      69.166667 40.841191\n",
            "[20, 30, 30, 2]    0.10           0.05       69.166667 40.886117      69.166667 40.839526\n",
            "[20, 30, 30, 2]    0.05           0.20       69.166667 40.886045      69.166667 40.833481\n",
            "[20, 10, 10, 2]    0.01           0.05       69.166667 40.885784      69.166667 40.813422\n"
          ]
        }
      ],
      "source": [
        "def display_sorted_results(results):\n",
        "    df = pd.DataFrame(results)\n",
        "    sort_columns = ['test_accuracy', 'test_f1']\n",
        "    sorted_df = df.sort_values(by=sort_columns, ascending=[False, False])\n",
        "    print(sorted_df.to_string(index=False))\n",
        "\n",
        "display_sorted_results(results_nn)"
      ]
    },
    {
      "cell_type": "markdown",
      "metadata": {
        "id": "h9DP6vbzJtXJ"
      },
      "source": []
    },
    {
      "cell_type": "markdown",
      "metadata": {
        "id": "7zvefhrWJto5"
      },
      "source": []
    },
    {
      "cell_type": "code",
      "execution_count": null,
      "metadata": {
        "colab": {
          "base_uri": "https://localhost:8080/",
          "height": 564
        },
        "id": "S1vGC2xVJqIy",
        "outputId": "8159efea-9408-4377-ba44-6281ae08dadb"
      },
      "outputs": [
        {
          "data": {
            "image/png": "[encoded data removed]",
            "text/plain": [
              "<Figure size 1000x600 with 1 Axes>"
            ]
          },
          "metadata": {},
          "output_type": "display_data"
        }
      ],
      "source": [
        "def learning_curve(X_train, y_train, X_test, y_test, nn, increments=100):\n",
        "    costs = []\n",
        "    for i in range(1, len(X_train), increments):\n",
        "        nn.train(X_train[:i], y_train[:i], iterations=1)\n",
        "        activations, _ = nn.forward(X_test)\n",
        "        cost = nn.cost(y_test, activations[-1])\n",
        "        costs.append(cost)\n",
        "    return costs\n",
        "\n",
        "np.random.seed(0)\n",
        "nn = NN([20, 10, 2], eta=0.2, reg_lambda=0.01, use_softmax=True)\n",
        "costs = learning_curve(X_train, y_train, X_test, y_test, nn)\n",
        "plt.figure(figsize=(10, 6))\n",
        "plt.plot(range(1, len(X_train), 100), costs, marker='o', linestyle='-', color='b')\n",
        "plt.title('Learning Curve for Neural Network [20, 10, 2], α=0.2, λ=0.01')\n",
        "plt.xlabel('Number of Training Instances Used')\n",
        "plt.ylabel('Cost J on Test Set')\n",
        "plt.grid(True)"
      ]
    },
    {
      "cell_type": "markdown",
      "metadata": {
        "id": "M7iGwWk2KSNz"
      },
      "source": []
    },
    {
      "cell_type": "markdown",
      "metadata": {
        "id": "Gnk8B9AFKSiW"
      },
      "source": []
    },
    {
      "cell_type": "markdown",
      "metadata": {
        "id": "i982ZBzRKSxe"
      },
      "source": [
        "# Random Forests"
      ]
    },
    {
      "cell_type": "markdown",
      "metadata": {
        "id": "c-JMFJcsKabP"
      },
      "source": [
        "Please note that we used Cyril's implementation of Random Forests here."
      ]
    },
    {
      "cell_type": "code",
      "execution_count": 82,
      "metadata": {
        "colab": {
          "base_uri": "https://localhost:8080/"
        },
        "id": "e_F-jMlpKXuj",
        "outputId": "116c4a24-bef9-4b18-c696-ec00b8f32d2c"
      },
      "outputs": [
        {
          "name": "stdout",
          "output_type": "stream",
          "text": [
            "{'Attribute1': 'categorical', 'Attribute2': 'numerical', 'Attribute3': 'categorical', 'Attribute4': 'categorical', 'Attribute5': 'numerical', 'Attribute6': 'categorical', 'Attribute7': 'categorical', 'Attribute8': 'numerical', 'Attribute9': 'categorical', 'Attribute10': 'categorical', 'Attribute11': 'numerical', 'Attribute12': 'categorical', 'Attribute13': 'numerical', 'Attribute14': 'categorical', 'Attribute15': 'categorical', 'Attribute16': 'numerical', 'Attribute17': 'categorical', 'Attribute18': 'numerical', 'Attribute19': 'categorical', 'Attribute20': 'categorical'}\n"
          ]
        }
      ],
      "source": [
        "def feature_type(dataset):\n",
        "    feature_types = {}\n",
        "    feature_descriptions = {\n",
        "        \"Attribute1\": \"categorical\",\n",
        "        \"Attribute2\":\"numerical\",\n",
        "        \"Attribute3\":\"categorical\",\n",
        "        \"Attribute4\":\"categorical\",\n",
        "        \"Attribute5\":\"numerical\",\n",
        "        \"Attribute6\":\"categorical\",\n",
        "        \"Attribute7\":\"categorical\",\n",
        "        \"Attribute8\":\"numerical\",\n",
        "        \"Attribute9\":\"categorical\",\n",
        "        \"Attribute10\":\"categorical\",\n",
        "        \"Attribute11\":\"numerical\",\n",
        "        \"Attribute12\":\"categorical\",\n",
        "        \"Attribute13\":\"numerical\",\n",
        "        \"Attribute14\":\"categorical\",\n",
        "        \"Attribute15\":\"categorical\",\n",
        "        \"Attribute16\":\"numerical\",\n",
        "        \"Attribute17\":\"categorical\",\n",
        "        \"Attribute18\":\"numerical\",\n",
        "        \"Attribute19\":\"categorical\",\n",
        "        \"Attribute20\":\"categorical\",\n",
        "    }\n",
        "    for column in dataset.columns:\n",
        "        if column == 'class':\n",
        "          continue\n",
        "        if column in feature_descriptions:\n",
        "            feature_types[column] = feature_descriptions[column]\n",
        "        else:\n",
        "            raise ValueError(f\"{column} does not exist\")\n",
        "    return feature_types\n",
        "\n",
        "feature_types = feature_type(dataset)\n",
        "print(feature_types)\n"
      ]
    },
    {
      "cell_type": "code",
      "execution_count": 77,
      "metadata": {
        "id": "2m24XsG8Mao_"
      },
      "outputs": [],
      "source": [
        "class DT:\n",
        "    def __init__(self, max_depth=20, min_samples_leaf=1):\n",
        "        self.max_depth = max_depth\n",
        "        self.min_samples_leaf = min_samples_leaf\n",
        "        self.tree = None\n",
        "\n",
        "    def entropy(self, labels):\n",
        "        label, counts = np.unique(labels, return_counts=True)\n",
        "        prob = counts / counts.sum()\n",
        "        return -np.sum(prob * np.log2(prob))\n",
        "\n",
        "    def information_gain_numerical(self, labels, true_labels, false_labels):\n",
        "        prob = float(len(true_labels)) / len(labels)\n",
        "        info_gain = self.entropy(labels) - prob * self.entropy(true_labels) - (1 - prob) * self.entropy(false_labels)\n",
        "        return info_gain\n",
        "\n",
        "    def information_gain_categorical(self, labels, partitions):\n",
        "        values, counts = np.unique(partitions, return_counts=True)\n",
        "        avg_entropy_of_partitions = sum((counts[i] / sum(counts)) * self.entropy(labels[partitions == value]) for i, value in enumerate(values))\n",
        "        return self.entropy(labels) - avg_entropy_of_partitions\n",
        "\n",
        "    def best_split(self, features, labels, feature_types, min_info_gain=0.01):\n",
        "        best_gain = -np.inf\n",
        "        best_feature = None\n",
        "        best_split_val = None\n",
        "        m = int(math.sqrt(len(features.columns)))\n",
        "        m_features = np.random.choice(features.columns, m, replace=False)\n",
        "        for feature in m_features:\n",
        "            # print(\"m_features\",m_features)\n",
        "            # print(\"feature\",feature)\n",
        "            # print(\"feature_types\",feature_types)\n",
        "            if feature_types[feature] == \"categorical\":\n",
        "                info_gain = self.information_gain_categorical(labels, features[feature])\n",
        "                if info_gain > best_gain and info_gain >= min_info_gain:\n",
        "                    best_gain, best_feature = info_gain, feature\n",
        "                    best_split_val = None\n",
        "            else:\n",
        "                sorted_indices = features[feature].sort_values().index\n",
        "                sorted_labels = labels.loc[sorted_indices]\n",
        "                sorted_features = features.loc[sorted_indices, feature]\n",
        "                for i in range(1, len(sorted_features)):\n",
        "                    if sorted_features.iloc[i] == sorted_features.iloc[i - 1]:\n",
        "                        continue\n",
        "                    split_val = (sorted_features.iloc[i] + sorted_features.iloc[i - 1]) / 2\n",
        "                    true_labels = sorted_labels[sorted_features <= split_val]\n",
        "                    false_labels = sorted_labels[sorted_features > split_val]\n",
        "                    info_gain = self.information_gain_numerical(labels, true_labels, false_labels)\n",
        "                    if info_gain > best_gain and info_gain >= min_info_gain:\n",
        "                        best_gain, best_feature, best_split_val = info_gain, feature, split_val\n",
        "        return best_feature, best_split_val\n",
        "\n",
        "    def build_dt(self, features, labels, feature_types, depth=0):\n",
        "        if len(np.unique(labels)) == 1 or len(features) < self.min_samples_leaf or (self.max_depth and depth >= self.max_depth):\n",
        "            return np.unique(labels)[0]\n",
        "        else:\n",
        "            best_feature, best_split_val = self.best_split(features, labels, feature_types)\n",
        "            if best_feature is None:\n",
        "                return np.unique(labels)[np.argmax(np.unique(labels, return_counts=True)[1])]\n",
        "            tree = {best_feature: {}}\n",
        "            if best_split_val is None:\n",
        "                for value in np.unique(features[best_feature]):\n",
        "                    subtree_features = features[features[best_feature] == value].drop(columns=[best_feature])\n",
        "                    subtree_labels = labels[features[best_feature] == value]\n",
        "                    subtree = self.build_dt(subtree_features, subtree_labels, feature_types, depth + 1)\n",
        "                    tree[best_feature][value] = subtree\n",
        "            else:\n",
        "                left_indices = features[best_feature] <= best_split_val\n",
        "                right_indices = features[best_feature] > best_split_val\n",
        "                left_subtree = self.build_dt(features[left_indices], labels[left_indices], feature_types, depth + 1)\n",
        "                right_subtree = self.build_dt(features[right_indices], labels[right_indices], feature_types, depth + 1)\n",
        "                tree[best_feature] = {\"<= {:.2f}\".format(best_split_val): left_subtree , \"> {:.2f}\".format(best_split_val): right_subtree}\n",
        "            return tree\n",
        "\n",
        "    def fit(self, features, labels, feature_types):\n",
        "        self.feature_types = feature_types\n",
        "        self.tree = self.build_dt(features, labels, feature_types)\n",
        "\n",
        "    def predict(self, dataset):\n",
        "        predictions = []\n",
        "        for _, instance in dataset.iterrows():\n",
        "            prediction = self.predict_helper(instance, self.tree)\n",
        "            predictions.append(prediction)\n",
        "        return np.array(predictions)\n",
        "\n",
        "    def predict_helper(self, instance, tree):\n",
        "        if not isinstance(tree, dict):\n",
        "            return tree\n",
        "        feature = next(iter(tree))\n",
        "        if self.feature_types[feature] == 'categorical':\n",
        "            if instance[feature] in tree[feature]:\n",
        "                return self.predict_helper(instance, tree[feature][instance[feature]])\n",
        "        else:\n",
        "            for key, subtree in tree[feature].items():\n",
        "                if key.startswith('<='):\n",
        "                    split_val = float(key.split('<= ')[1])\n",
        "                    if instance[feature] <= split_val:\n",
        "                        return self.predict_helper(instance, subtree)\n",
        "                elif key.startswith('>'):\n",
        "                    split_val = float(key.split('> ')[1])\n",
        "                    if instance[feature] > split_val:\n",
        "                        return self.predict_helper(instance, subtree)\n",
        "                else:\n",
        "                    if instance[feature] == key:\n",
        "                        return self.predict_helper(instance, subtree)\n",
        "        return np.nan\n"
      ]
    },
    {
      "cell_type": "code",
      "execution_count": 78,
      "metadata": {
        "id": "ERWZJn61NoXQ"
      },
      "outputs": [],
      "source": [
        "class RandomForest:\n",
        "    def __init__(self, n_trees=10, max_depth=20, min_samples_leaf=1):\n",
        "        self.n_trees = n_trees\n",
        "        self.max_depth = max_depth\n",
        "        self.min_samples_leaf = min_samples_leaf\n",
        "        self.trees = []\n",
        "\n",
        "    def bootstrap(self, features, labels):\n",
        "        num_samples = features.shape[0]\n",
        "        indices = np.random.choice(num_samples, num_samples, replace=True)\n",
        "        return features.iloc[indices], labels.iloc[indices]\n",
        "\n",
        "    def fit(self, features, labels, feature_types):\n",
        "        self.trees = []\n",
        "        for _ in range(self.n_trees):\n",
        "            tree = DT(max_depth=self.max_depth, min_samples_leaf=self.min_samples_leaf)\n",
        "            features_sample, labels_sample = self.bootstrap(features, labels)\n",
        "            tree.fit(features_sample, labels_sample, feature_types)\n",
        "            self.trees.append(tree)\n",
        "\n",
        "    def predict(self, instances):\n",
        "        tree_preds = [tree.predict(instances) for tree in self.trees]\n",
        "        tree_preds = np.array(tree_preds).T\n",
        "        majority_votes = [self.most_common_label(pred) for pred in tree_preds]\n",
        "        return np.array(majority_votes)\n",
        "\n",
        "    def most_common_label(self, pred):\n",
        "        return Counter(pred).most_common(1)[0][0]"
      ]
    },
    {
      "cell_type": "code",
      "execution_count": 79,
      "metadata": {
        "id": "TEGGq2gwOHeL"
      },
      "outputs": [],
      "source": [
        "def unique_labels_filter(true_labels):\n",
        "    filtered_labels = [label for label in true_labels if not np.isnan(label)]\n",
        "    return np.unique(filtered_labels)\n",
        "\n",
        "def mc_cm(true_labels, predictions, num_classes):\n",
        "    unique_labels = unique_labels_filter(true_labels)\n",
        "    label_to_index = {label: idx for idx, label in enumerate(unique_labels)}\n",
        "    confusion_matrix = [[0 for _ in range(num_classes)] for _ in range(num_classes)]\n",
        "    for true, pred in zip(true_labels, predictions):\n",
        "        if np.isnan(pred):\n",
        "            continue\n",
        "        true_idx = label_to_index[true]\n",
        "        pred_idx = label_to_index.get(pred, -1)\n",
        "        if pred_idx != -1:\n",
        "            confusion_matrix[true_idx][pred_idx] += 1\n",
        "    return confusion_matrix\n",
        "\n",
        "def metrics_calc(confusion_matrix):\n",
        "    metrics = {'precision': [], 'recall': [], 'f1': []}\n",
        "    for i in range(len(confusion_matrix)):\n",
        "        TP = confusion_matrix[i][i]\n",
        "        FN = sum(confusion_matrix[i][j] for j in range(len(confusion_matrix)) if j != i)\n",
        "        FP = sum(confusion_matrix[j][i] for j in range(len(confusion_matrix)) if j != i)\n",
        "        TN = sum(sum(confusion_matrix[j][k] for k in range(len(confusion_matrix)) if k != i) for j in range(len(confusion_matrix)) if j != i)\n",
        "        precision = TP / (TP + FP) if TP + FP > 0 else 0\n",
        "        recall = TP / (TP + FN) if TP + FN > 0 else 0\n",
        "        f1 = 2 * (precision * recall) / (precision + recall) if precision + recall > 0 else 0\n",
        "        metrics['f1'].append(f1)\n",
        "        metrics['precision'].append(precision)\n",
        "        metrics['recall'].append(recall)\n",
        "    for metric in metrics:\n",
        "        metrics[metric] = sum(metrics[metric]) / len(metrics[metric])\n",
        "    return metrics\n"
      ]
    },
    {
      "cell_type": "code",
      "execution_count": 80,
      "metadata": {
        "id": "iAIuy7qpNqW-"
      },
      "outputs": [],
      "source": [
        "def evaluate_rf(features, labels, feature_types, k=10, ntree=1):\n",
        "    scores = {'accuracy': [], 'precision': [], 'recall': [], 'f1': []}\n",
        "    pairs = stratified_cross_validation(features, labels, k=k)\n",
        "    num_classes = len(np.unique(labels))\n",
        "    for train_indices, test_indices in pairs:\n",
        "        features_train, labels_train = features.iloc[train_indices], labels.iloc[train_indices]\n",
        "        features_test, labels_test = features.iloc[test_indices], labels.iloc[test_indices]\n",
        "        ensemble = RandomForest(n_trees=ntree, max_depth=10, min_samples_leaf=1)\n",
        "        ensemble.fit(features_train, labels_train, feature_types)\n",
        "        predictions = ensemble.predict(features_test)\n",
        "        confusion_matrix = mc_cm(labels_test.to_numpy(), predictions, num_classes)\n",
        "        metrics = metrics_calc(confusion_matrix)\n",
        "        accuracy = sum(confusion_matrix[i][i] for i in range(num_classes)) / sum(sum(row) for row in confusion_matrix)\n",
        "        scores['accuracy'].append(accuracy)\n",
        "        scores['precision'].append(metrics['precision'])\n",
        "        scores['recall'].append(metrics['recall'])\n",
        "        scores['f1'].append(metrics['f1'])\n",
        "    avg_perf = {metric: np.mean(values) for metric, values in scores.items()}\n",
        "    return avg_perf"
      ]
    },
    {
      "cell_type": "code",
      "execution_count": 84,
      "metadata": {
        "colab": {
          "base_uri": "https://localhost:8080/"
        },
        "id": "dJvfYn0jN9WP",
        "outputId": "5a9d311a-485c-4d52-89ac-aa6815e7b9cd"
      },
      "outputs": [
        {
          "name": "stdout",
          "output_type": "stream",
          "text": [
            "Metrics for a value of ntree = 1: {'accuracy': 0.6525581459143828, 'precision': 0.5788762840820372, 'recall': 0.568957213024834, 'f1': 0.5692681784783007}\n"
          ]
        }
      ],
      "source": [
        "features_df = pd.DataFrame(features, columns=[\n",
        "        \"Attribute1\", \n",
        "        \"Attribute2\",\n",
        "        \"Attribute3\",\n",
        "        \"Attribute4\",\n",
        "        \"Attribute5\",\n",
        "        \"Attribute6\",\n",
        "        \"Attribute7\",\n",
        "        \"Attribute8\", \n",
        "        \"Attribute9\",\n",
        "        \"Attribute10\",\n",
        "        \"Attribute11\",\n",
        "        \"Attribute12\",\n",
        "        \"Attribute13\",\n",
        "        \"Attribute14\",\n",
        "        \"Attribute15\", \n",
        "        \"Attribute16\",\n",
        "        \"Attribute17\",\n",
        "        \"Attribute18\",\n",
        "        \"Attribute19\",\n",
        "        \"Attribute20\",\n",
        "        ])\n",
        "labels_df = pd.Series(labels)\n",
        "average_performance_rf1 = evaluate_rf(features_df, labels_df, feature_types, k=10, ntree=1)\n",
        "print(f\"Metrics for a value of ntree = {1}: {average_performance_rf1}\")"
      ]
    },
    {
      "cell_type": "code",
      "execution_count": 85,
      "metadata": {
        "colab": {
          "base_uri": "https://localhost:8080/"
        },
        "id": "Ecj0Bca9O2zM",
        "outputId": "36702088-e47e-4d16-e782-821d76a1a977"
      },
      "outputs": [
        {
          "name": "stdout",
          "output_type": "stream",
          "text": [
            "Metrics for a value of ntree = 1: {'accuracy': 0.6799881650524886, 'precision': 0.6199413788322237, 'recall': 0.6133536522041142, 'f1': 0.6125016627260947}\n"
          ]
        }
      ],
      "source": [
        "ntree_values = [1, 5, 10, 20, 30, 40, 50]\n",
        "metrics_results = {'ntree': [], 'accuracy': [], 'precision': [], 'recall': [], 'f1': []}\n",
        "for ntree in ntree_values:\n",
        "    average_performance = evaluate_rf(features_df, labels_df, feature_types, k=10, ntree=ntree)\n",
        "    metrics_results['ntree'].append(ntree)\n",
        "    metrics_results['accuracy'].append(average_performance['accuracy'])\n",
        "    metrics_results['precision'].append(average_performance['precision'])\n",
        "    metrics_results['recall'].append(average_performance['recall'])\n",
        "    metrics_results['f1'].append(average_performance['f1'])\n",
        "    print(f\"Metrics for a value of ntree = {ntree}: {average_performance}\")\n"
      ]
    },
    {
      "cell_type": "code",
      "execution_count": null,
      "metadata": {
        "colab": {
          "base_uri": "https://localhost:8080/",
          "height": 810
        },
        "id": "oUQI3P-zTus-",
        "outputId": "ee8bb760-4d60-4d86-95bd-7797b6a2e3ae"
      },
      "outputs": [
        {
          "data": {
            "image/png": "[encoded data removed]",
            "text/plain": [
              "<Figure size 1400x1000 with 4 Axes>"
            ]
          },
          "metadata": {},
          "output_type": "display_data"
        }
      ],
      "source": [
        "def plot(metrics):\n",
        "    plt.figure(figsize=(14, 10))\n",
        "    titles = ['Accuracy', 'Precision', 'Recall', 'F1 Score']\n",
        "    for i, metric in enumerate(['accuracy', 'precision', 'recall', 'f1'], start=1):\n",
        "        plt.subplot(2, 2, i)\n",
        "        plt.plot(metrics['ntree'], metrics[metric], marker='o', linestyle='-', color='b')\n",
        "        plt.title(f'RF {titles[i-1]} as a function of ntree')\n",
        "        plt.xlabel('ntree')\n",
        "        plt.ylabel(titles[i-1])\n",
        "        plt.xticks(metrics_results['ntree'])\n",
        "        plt.grid(True)\n",
        "    plt.tight_layout()\n",
        "    plt.show()\n",
        "plot(metrics_results)"
      ]
    },
    {
      "cell_type": "code",
      "execution_count": null,
      "metadata": {
        "id": "lfqwCqTdTvSm"
      },
      "outputs": [],
      "source": []
    }
  ],
  "metadata": {
    "colab": {
      "provenance": []
    },
    "kernelspec": {
      "display_name": "Python 3",
      "name": "python3"
    },
    "language_info": {
      "codemirror_mode": {
        "name": "ipython",
        "version": 3
      },
      "file_extension": ".py",
      "mimetype": "text/x-python",
      "name": "python",
      "nbconvert_exporter": "python",
      "pygments_lexer": "ipython3",
      "version": "3.9.13"
    }
  },
  "nbformat": 4,
  "nbformat_minor": 0
}
